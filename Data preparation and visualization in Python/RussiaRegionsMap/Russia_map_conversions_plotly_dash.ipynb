{
 "cells": [
  {
   "cell_type": "code",
<<<<<<< HEAD
   "execution_count": null,
=======
   "execution_count": 3,
   "id": "a8e80beb-5a4f-4ec0-814f-9dd40c42e84c",
   "metadata": {},
   "outputs": [
    {
     "name": "stdout",
     "output_type": "stream",
     "text": [
      "Collecting dash\n",
      "  Downloading dash-2.14.1-py3-none-any.whl.metadata (11 kB)\n",
      "Collecting Flask<3.1,>=1.0.4 (from dash)\n",
      "  Downloading flask-3.0.0-py3-none-any.whl.metadata (3.6 kB)\n",
      "Collecting Werkzeug<3.1 (from dash)\n",
      "  Downloading werkzeug-3.0.1-py3-none-any.whl.metadata (4.1 kB)\n",
      "Requirement already satisfied: plotly>=5.0.0 in /Library/Frameworks/Python.framework/Versions/3.12/lib/python3.12/site-packages (from dash) (5.18.0)\n",
      "Collecting dash-html-components==2.0.0 (from dash)\n",
      "  Downloading dash_html_components-2.0.0-py3-none-any.whl (4.1 kB)\n",
      "Collecting dash-core-components==2.0.0 (from dash)\n",
      "  Downloading dash_core_components-2.0.0-py3-none-any.whl (3.8 kB)\n",
      "Collecting dash-table==5.0.0 (from dash)\n",
      "  Downloading dash_table-5.0.0-py3-none-any.whl (3.9 kB)\n",
      "Collecting typing-extensions>=4.1.1 (from dash)\n",
      "  Downloading typing_extensions-4.8.0-py3-none-any.whl.metadata (3.0 kB)\n",
      "Requirement already satisfied: requests in /Library/Frameworks/Python.framework/Versions/3.12/lib/python3.12/site-packages (from dash) (2.31.0)\n",
      "Collecting retrying (from dash)\n",
      "  Downloading retrying-1.3.4-py3-none-any.whl (11 kB)\n",
      "Collecting ansi2html (from dash)\n",
      "  Downloading ansi2html-1.8.0-py3-none-any.whl (16 kB)\n",
      "Requirement already satisfied: nest-asyncio in /Library/Frameworks/Python.framework/Versions/3.12/lib/python3.12/site-packages (from dash) (1.5.8)\n",
      "Requirement already satisfied: setuptools in /Library/Frameworks/Python.framework/Versions/3.12/lib/python3.12/site-packages (from dash) (69.0.2)\n",
      "Collecting importlib-metadata (from dash)\n",
      "  Downloading importlib_metadata-6.8.0-py3-none-any.whl.metadata (5.1 kB)\n",
      "Requirement already satisfied: Jinja2>=3.1.2 in /Library/Frameworks/Python.framework/Versions/3.12/lib/python3.12/site-packages (from Flask<3.1,>=1.0.4->dash) (3.1.2)\n",
      "Collecting itsdangerous>=2.1.2 (from Flask<3.1,>=1.0.4->dash)\n",
      "  Downloading itsdangerous-2.1.2-py3-none-any.whl (15 kB)\n",
      "Collecting click>=8.1.3 (from Flask<3.1,>=1.0.4->dash)\n",
      "  Downloading click-8.1.7-py3-none-any.whl.metadata (3.0 kB)\n",
      "Collecting blinker>=1.6.2 (from Flask<3.1,>=1.0.4->dash)\n",
      "  Downloading blinker-1.7.0-py3-none-any.whl.metadata (1.9 kB)\n",
      "Requirement already satisfied: tenacity>=6.2.0 in /Library/Frameworks/Python.framework/Versions/3.12/lib/python3.12/site-packages (from plotly>=5.0.0->dash) (8.2.3)\n",
      "Requirement already satisfied: packaging in /Library/Frameworks/Python.framework/Versions/3.12/lib/python3.12/site-packages (from plotly>=5.0.0->dash) (23.2)\n",
      "Requirement already satisfied: MarkupSafe>=2.1.1 in /Library/Frameworks/Python.framework/Versions/3.12/lib/python3.12/site-packages (from Werkzeug<3.1->dash) (2.1.3)\n",
      "Collecting zipp>=0.5 (from importlib-metadata->dash)\n",
      "  Downloading zipp-3.17.0-py3-none-any.whl.metadata (3.7 kB)\n",
      "Requirement already satisfied: charset-normalizer<4,>=2 in /Library/Frameworks/Python.framework/Versions/3.12/lib/python3.12/site-packages (from requests->dash) (3.3.2)\n",
      "Requirement already satisfied: idna<4,>=2.5 in /Library/Frameworks/Python.framework/Versions/3.12/lib/python3.12/site-packages (from requests->dash) (3.4)\n",
      "Requirement already satisfied: urllib3<3,>=1.21.1 in /Library/Frameworks/Python.framework/Versions/3.12/lib/python3.12/site-packages (from requests->dash) (2.1.0)\n",
      "Requirement already satisfied: certifi>=2017.4.17 in /Library/Frameworks/Python.framework/Versions/3.12/lib/python3.12/site-packages (from requests->dash) (2023.11.17)\n",
      "Requirement already satisfied: six>=1.7.0 in /Library/Frameworks/Python.framework/Versions/3.12/lib/python3.12/site-packages (from retrying->dash) (1.16.0)\n",
      "Downloading dash-2.14.1-py3-none-any.whl (10.4 MB)\n",
      "\u001b[2K   \u001b[90m━━━━━━━━━━━━━━━━━━━━━━━━━━━━━━━━━━━━━━━━\u001b[0m \u001b[32m10.4/10.4 MB\u001b[0m \u001b[31m6.8 MB/s\u001b[0m eta \u001b[36m0:00:00\u001b[0m00:01\u001b[0m00:01\u001b[0m\n",
      "\u001b[?25hDownloading flask-3.0.0-py3-none-any.whl (99 kB)\n",
      "\u001b[2K   \u001b[90m━━━━━━━━━━━━━━━━━━━━━━━━━━━━━━━━━━━━━━━━\u001b[0m \u001b[32m99.7/99.7 kB\u001b[0m \u001b[31m3.4 MB/s\u001b[0m eta \u001b[36m0:00:00\u001b[0m\n",
      "\u001b[?25hDownloading typing_extensions-4.8.0-py3-none-any.whl (31 kB)\n",
      "Downloading werkzeug-3.0.1-py3-none-any.whl (226 kB)\n",
      "\u001b[2K   \u001b[90m━━━━━━━━━━━━━━━━━━━━━━━━━━━━━━━━━━━━━━━━\u001b[0m \u001b[32m226.7/226.7 kB\u001b[0m \u001b[31m3.4 MB/s\u001b[0m eta \u001b[36m0:00:00\u001b[0m00:01\u001b[0m\n",
      "\u001b[?25hDownloading importlib_metadata-6.8.0-py3-none-any.whl (22 kB)\n",
      "Downloading blinker-1.7.0-py3-none-any.whl (13 kB)\n",
      "Downloading click-8.1.7-py3-none-any.whl (97 kB)\n",
      "\u001b[2K   \u001b[90m━━━━━━━━━━━━━━━━━━━━━━━━━━━━━━━━━━━━━━━━\u001b[0m \u001b[32m97.9/97.9 kB\u001b[0m \u001b[31m2.7 MB/s\u001b[0m eta \u001b[36m0:00:00\u001b[0m\n",
      "\u001b[?25hDownloading zipp-3.17.0-py3-none-any.whl (7.4 kB)\n",
      "Installing collected packages: dash-table, dash-html-components, dash-core-components, zipp, Werkzeug, typing-extensions, retrying, itsdangerous, click, blinker, ansi2html, importlib-metadata, Flask, dash\n",
      "Successfully installed Flask-3.0.0 Werkzeug-3.0.1 ansi2html-1.8.0 blinker-1.7.0 click-8.1.7 dash-2.14.1 dash-core-components-2.0.0 dash-html-components-2.0.0 dash-table-5.0.0 importlib-metadata-6.8.0 itsdangerous-2.1.2 retrying-1.3.4 typing-extensions-4.8.0 zipp-3.17.0\n",
      "Note: you may need to restart the kernel to use updated packages.\n"
     ]
    }
   ],
   "source": [
    "pip install dash"
   ]
  },
  {
   "cell_type": "code",
   "execution_count": 4,
>>>>>>> parent of d8baf7c (update)
   "id": "d6ba31e7-4046-4547-9798-02afc9859a15",
   "metadata": {},
   "outputs": [],
   "source": [
    "import json\n",
    "import pandas as pd\n",
    "import plotly.express as px\n",
    "from dash import Dash, dcc, html"
   ]
  },
  {
   "cell_type": "code",
<<<<<<< HEAD
   "execution_count": null,
=======
   "execution_count": 5,
>>>>>>> parent of d8baf7c (update)
   "id": "f325ea2f-a66e-42a9-90b0-cd0db16e26cf",
   "metadata": {},
   "outputs": [],
   "source": [
    "f = open(\"Russia_regions.geojson\", \"r\")\n",
    "geo_json = json.loads(f.read())"
   ]
  },
  {
   "cell_type": "code",
<<<<<<< HEAD
   "execution_count": null,
=======
   "execution_count": 6,
>>>>>>> parent of d8baf7c (update)
   "id": "ff26373c-8a9f-40cf-89f2-5e278ffec9ff",
   "metadata": {},
   "outputs": [],
   "source": [
    "geo_json_regions = [geo_json[\"features\"][i][\"properties\"][\"region\"] for i in range(len(geo_json[\"features\"]))]"
   ]
  },
  {
   "cell_type": "code",
<<<<<<< HEAD
   "execution_count": null,
=======
   "execution_count": 7,
>>>>>>> parent of d8baf7c (update)
   "id": "afc3c7c7-75c5-4e3b-a721-bd541dee54d1",
   "metadata": {},
   "outputs": [],
   "source": [
    "data = pd.read_csv(\"Sessions_by_City_2023_06_21.csv\")\n",
    "data = data.fillna(\"NaN\")\n",
    "data[\"ClientCity\"] = data[\"ClientCity\"].str.replace('ё', 'e', regex=False)\n",
    "data[\"City\"] = data.ClientCity.apply(lambda x: x.split(\" (\")[0])"
   ]
  },
  {
   "cell_type": "code",
<<<<<<< HEAD
   "execution_count": null,
=======
   "execution_count": 8,
>>>>>>> parent of d8baf7c (update)
   "id": "c5df827d-d768-4804-b122-85a7c11772f9",
   "metadata": {},
   "outputs": [],
   "source": [
    "regions = pd.read_csv(\"Russia_regions_and_cities.csv\")\n",
    "regions[\"Город\"] = regions[\"Город\"].str.replace('ё', 'e', regex=False)\n",
    "regions[\"reg\"] = regions[\"Регион\"].apply(lambda x: x.split()[0])\n",
    "data_regions = list(regions[\"reg\"])"
   ]
  },
  {
   "cell_type": "code",
<<<<<<< HEAD
   "execution_count": null,
=======
   "execution_count": 9,
>>>>>>> parent of d8baf7c (update)
   "id": "1e9a9fd5-b38d-4133-bf29-efd4fb1982e8",
   "metadata": {},
   "outputs": [],
   "source": [
    "new_regions = []\n",
    "for reg in data_regions:\n",
    "    for json_reg in geo_json_regions:\n",
    "        if reg in json_reg.split():\n",
    "            new_regions.append(json_reg)\n",
    "            break"
   ]
  },
  {
   "cell_type": "code",
<<<<<<< HEAD
   "execution_count": null,
   "id": "acb1183a-c554-4d4a-8387-e359d49a3053",
   "metadata": {},
   "outputs": [],
   "source": [
    "regions[\"NewRegion\"] = new_regions\n",
    "data = pd.merge(data, regions, how = \"left\", left_on = \"City\", right_on = \"Город\" )\n",
    "\n",
    "d = data.groupby(by = [\"NewRegion\"])[[\"MenuVisited_Sessions\", \"OrderCreated_Sessions\", \"OrderCanceled_Sessions\"]].sum().reset_index()\n",
    "d[\"menu_order\"] = round(d[\"OrderCreated_Sessions\"]  / d[\"MenuVisited_Sessions\"] * 100, 1)\n",
    "d[\"create_cancel_order\"] = round(d[\"OrderCanceled_Sessions\"] / d[\"OrderCreated_Sessions\"] * 100, 1)"
   ]
  },
  {
   "cell_type": "code",
   "execution_count": null,
   "id": "4887302d-2519-4b68-ac41-1b0a7a352343",
   "metadata": {},
   "outputs": [],
   "source": [
    "fig = px.choropleth_mapbox(d, geojson=geo_json, locations='NewRegion',\n",
    "                           color='menu_order', featureidkey = \"properties.region\",\n",
    "                           color_continuous_scale= \"RdYlGn\",#\"Magma\", #\"Viridis\",\n",
    "                           hover_name = \"NewRegion\",\n",
    "                           #range_color=(0, 1),\n",
    "                           mapbox_style=\"carto-positron\",\n",
    "                           #mapbox_style = \"carto-darkmatter\",\n",
    "                           zoom=3, center = {\"lat\": 55.44, \"lon\": 37.4},\n",
    "                           opacity=0.8,\n",
    "                           labels={'menu_order':'Конверсия меню-заказ',\n",
    "                                  \"NewRegion\": \"регион\"},\n",
    "                           width = 1400,\n",
    "                           height = 700\n",
    "                          )\n",
    "fig.update_layout(margin={\"r\":0,\"t\":0,\"l\":0,\"b\":0})"
   ]
  },
  {
   "cell_type": "code",
   "execution_count": null,
   "id": "58fe5208-f03a-4060-a489-647b36eaec14",
   "metadata": {},
   "outputs": [],
   "source": [
    "fig_canceled = px.choropleth_mapbox(d, geojson=geo_json, locations='NewRegion',\n",
    "                           color='create_cancel_order', featureidkey = \"properties.region\",\n",
    "                           color_continuous_scale= \"Viridis\",#\"Magma\", #\"Viridis\",\n",
    "                           hover_name = \"NewRegion\",\n",
    "                           #range_color=(0, 1),\n",
    "                           mapbox_style=\"carto-positron\",\n",
    "                           #mapbox_style = \"carto-darkmatter\",\n",
    "                           zoom=3, center = {\"lat\": 55.44, \"lon\": 37.4},\n",
    "                           opacity=0.7,\n",
    "                           labels={'menu_order':'Конверсия меню-заказ',\n",
    "                                  \"NewRegion\": \"регион\"},\n",
    "                           #width = 1400,\n",
    "                           #height = 700\n",
    "                          )\n",
    "fig_canceled.update_layout(margin={\"r\":0,\"t\":0,\"l\":0,\"b\":0})"
   ]
  },
  {
   "cell_type": "code",
   "execution_count": null,
   "id": "c56a9a27-6519-4ecd-9b61-f7f026506aca",
   "metadata": {},
   "outputs": [],
=======
   "execution_count": 10,
   "id": "98212dd4-92e3-4753-b6b0-8b42ccd254b2",
   "metadata": {},
   "outputs": [
    {
     "data": {
      "text/html": [
       "\n",
       "        <iframe\n",
       "            width=\"100%\"\n",
       "            height=\"650\"\n",
       "            src=\"http://127.0.0.1:8005/\"\n",
       "            frameborder=\"0\"\n",
       "            allowfullscreen\n",
       "            \n",
       "        ></iframe>\n",
       "        "
      ],
      "text/plain": [
       "<IPython.lib.display.IFrame at 0x121a2ae40>"
      ]
     },
     "metadata": {},
     "output_type": "display_data"
    }
   ],
>>>>>>> parent of d8baf7c (update)
   "source": [
    "regions[\"NewRegion\"] = new_regions\n",
    "data = pd.merge(data, regions, how = \"left\", left_on = \"City\", right_on = \"Город\" )\n",
    "\n",
    "d = data.groupby(by = [\"NewRegion\"])[[\"MenuVisited_Sessions\", \"OrderCreated_Sessions\", \"OrderCanceled_Sessions\"]].sum().reset_index()\n",
    "d[\"menu_order\"] = round(d[\"OrderCreated_Sessions\"]  / d[\"MenuVisited_Sessions\"] * 100, 1)\n",
    "d[\"create_cancel_order\"] = round(d[\"OrderCanceled_Sessions\"] / d[\"OrderCreated_Sessions\"] * 100, 1)\n",
    "\n",
    "fig = px.choropleth_mapbox(d, geojson=geo_json, locations='NewRegion',\n",
    "                           color='menu_order', featureidkey = \"properties.region\",\n",
    "                           color_continuous_scale= \"RdYlGn\",#\"Magma\", #\"Viridis\",\n",
    "                           hover_name = \"NewRegion\",\n",
    "                           #range_color=(0, 1),\n",
    "                           mapbox_style=\"carto-positron\",\n",
    "                           #mapbox_style = \"carto-darkmatter\",\n",
    "                           zoom=3, center = {\"lat\": 55.44, \"lon\": 37.4},\n",
    "                           opacity=0.8,\n",
    "                           labels={'menu_order':'Конверсия меню-заказ',\n",
    "                                  \"NewRegion\": \"регион\"},\n",
    "                           width = 1400,\n",
    "                           height = 700\n",
    "                          )\n",
    "fig.update_layout(margin={\"r\":0,\"t\":0,\"l\":0,\"b\":0})\n",
    "\n",
    "fig_canceled = px.choropleth_mapbox(d, geojson=geo_json, locations='NewRegion',\n",
    "                           color='create_cancel_order', featureidkey = \"properties.region\",\n",
    "                           color_continuous_scale= \"Viridis\",#\"Magma\", #\"Viridis\",\n",
    "                           hover_name = \"NewRegion\",\n",
    "                           #range_color=(0, 1),\n",
    "                           mapbox_style=\"carto-positron\",\n",
    "                           #mapbox_style = \"carto-darkmatter\",\n",
    "                           zoom=3, center = {\"lat\": 55.44, \"lon\": 37.4},\n",
    "                           opacity=0.7,\n",
    "                           labels={'menu_order':'Конверсия меню-заказ',\n",
    "                                  \"NewRegion\": \"регион\"},\n",
    "                           #width = 1400,\n",
    "                           #height = 700\n",
    "                          )\n",
    "fig_canceled.update_layout(margin={\"r\":0,\"t\":0,\"l\":0,\"b\":0})\n",
    "\n",
    "PORT = 8005\n",
    "app = Dash(__name__)\n",
    "app.layout = html.Div(\n",
    "    children=[\n",
    "    html.H2(\n",
    "        children='Конверсия Меню-Заказ'\n",
    "    ),\n",
    "    html.A(\"Моя страница в ноушне\",\n",
    "           href='https://www.notion.so/dodobrands/05321e94ff5d4d12a29e5651822f3bae',\n",
    "           target=\"_blank\"),\n",
    "    dcc.Graph(\n",
    "        id='example-graph',\n",
    "        figure=fig\n",
    "    ),   \n",
    "])\n",
    "\n",
    "if __name__ == '__main__':\n",
    "    app.run(port=PORT, debug=False)"
   ]
  },
  {
   "cell_type": "code",
   "execution_count": null,
   "id": "3debe205-a39e-4139-81df-5efcab92498b",
   "metadata": {},
   "outputs": [],
   "source": []
  }
 ],
 "metadata": {
  "kernelspec": {
   "display_name": "Python 3 (ipykernel)",
   "language": "python",
   "name": "python3"
  },
  "language_info": {
   "codemirror_mode": {
    "name": "ipython",
    "version": 3
   },
   "file_extension": ".py",
   "mimetype": "text/x-python",
   "name": "python",
   "nbconvert_exporter": "python",
   "pygments_lexer": "ipython3",
   "version": "3.12.0"
  }
 },
 "nbformat": 4,
 "nbformat_minor": 5
}
