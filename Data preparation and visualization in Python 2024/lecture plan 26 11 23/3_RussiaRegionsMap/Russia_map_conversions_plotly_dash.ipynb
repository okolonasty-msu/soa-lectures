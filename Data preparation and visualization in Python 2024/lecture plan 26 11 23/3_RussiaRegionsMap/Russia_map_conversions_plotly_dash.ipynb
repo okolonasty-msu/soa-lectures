{
 "cells": [
  {
   "cell_type": "code",
   "execution_count": null,
   "id": "d6ba31e7-4046-4547-9798-02afc9859a15",
   "metadata": {},
   "outputs": [],
   "source": [
    "import json\n",
    "import pandas as pd\n",
    "import plotly.express as px\n",
    "from dash import Dash, dcc, html"
   ]
  },
  {
   "cell_type": "code",
   "execution_count": null,
   "id": "f325ea2f-a66e-42a9-90b0-cd0db16e26cf",
   "metadata": {},
   "outputs": [],
   "source": [
    "f = open(\"Russia_regions.geojson\", \"r\")\n",
    "geo_json = json.loads(f.read())"
   ]
  },
  {
   "cell_type": "code",
   "execution_count": null,
   "id": "ff26373c-8a9f-40cf-89f2-5e278ffec9ff",
   "metadata": {},
   "outputs": [],
   "source": [
    "geo_json_regions = [geo_json[\"features\"][i][\"properties\"][\"region\"] for i in range(len(geo_json[\"features\"]))]"
   ]
  },
  {
   "cell_type": "code",
   "execution_count": null,
   "id": "afc3c7c7-75c5-4e3b-a721-bd541dee54d1",
   "metadata": {},
   "outputs": [],
   "source": [
    "data = pd.read_csv(\"Sessions_by_City_2023_06_21.csv\")\n",
    "data = data.fillna(\"NaN\")\n",
    "data[\"ClientCity\"] = data[\"ClientCity\"].str.replace('ё', 'e', regex=False)\n",
    "data[\"City\"] = data.ClientCity.apply(lambda x: x.split(\" (\")[0])"
   ]
  },
  {
   "cell_type": "code",
   "execution_count": null,
   "id": "c5df827d-d768-4804-b122-85a7c11772f9",
   "metadata": {},
   "outputs": [],
   "source": [
    "regions = pd.read_csv(\"Russia_regions_and_cities.csv\")\n",
    "regions[\"Город\"] = regions[\"Город\"].str.replace('ё', 'e', regex=False)\n",
    "regions[\"reg\"] = regions[\"Регион\"].apply(lambda x: x.split()[0])\n",
    "data_regions = list(regions[\"reg\"])"
   ]
  },
  {
   "cell_type": "code",
   "execution_count": null,
   "id": "1e9a9fd5-b38d-4133-bf29-efd4fb1982e8",
   "metadata": {},
   "outputs": [],
   "source": [
    "new_regions = []\n",
    "for reg in data_regions:\n",
    "    for json_reg in geo_json_regions:\n",
    "        if reg in json_reg.split():\n",
    "            new_regions.append(json_reg)\n",
    "            break"
   ]
  },
  {
   "cell_type": "code",
   "execution_count": null,
   "id": "acb1183a-c554-4d4a-8387-e359d49a3053",
   "metadata": {},
   "outputs": [],
   "source": [
    "regions[\"NewRegion\"] = new_regions\n",
    "data = pd.merge(data, regions, how = \"left\", left_on = \"City\", right_on = \"Город\" )\n",
    "\n",
    "d = data.groupby(by = [\"NewRegion\"])[[\"MenuVisited_Sessions\", \"OrderCreated_Sessions\", \"OrderCanceled_Sessions\"]].sum().reset_index()\n",
    "d[\"menu_order\"] = round(d[\"OrderCreated_Sessions\"]  / d[\"MenuVisited_Sessions\"] * 100, 1)\n",
    "d[\"create_cancel_order\"] = round(d[\"OrderCanceled_Sessions\"] / d[\"OrderCreated_Sessions\"] * 100, 1)"
   ]
  },
  {
   "cell_type": "code",
   "execution_count": null,
   "id": "4887302d-2519-4b68-ac41-1b0a7a352343",
   "metadata": {},
   "outputs": [],
   "source": [
    "fig = px.choropleth_mapbox(d, geojson=geo_json, locations='NewRegion',\n",
    "                           color='menu_order', featureidkey = \"properties.region\",\n",
    "                           color_continuous_scale= \"RdYlGn\",#\"Magma\", #\"Viridis\",\n",
    "                           hover_name = \"NewRegion\",\n",
    "                           #range_color=(0, 1),\n",
    "                           mapbox_style=\"carto-positron\",\n",
    "                           #mapbox_style = \"carto-darkmatter\",\n",
    "                           zoom=3, center = {\"lat\": 55.44, \"lon\": 37.4},\n",
    "                           opacity=0.8,\n",
    "                           labels={'menu_order':'Конверсия меню-заказ',\n",
    "                                  \"NewRegion\": \"регион\"},\n",
    "                           width = 1400,\n",
    "                           height = 700\n",
    "                          )\n",
    "fig.update_layout(margin={\"r\":0,\"t\":0,\"l\":0,\"b\":0})"
   ]
  },
  {
   "cell_type": "code",
   "execution_count": null,
   "id": "58fe5208-f03a-4060-a489-647b36eaec14",
   "metadata": {},
   "outputs": [],
   "source": [
    "fig_canceled = px.choropleth_mapbox(d, geojson=geo_json, locations='NewRegion',\n",
    "                           color='create_cancel_order', featureidkey = \"properties.region\",\n",
    "                           color_continuous_scale= \"Viridis\",#\"Magma\", #\"Viridis\",\n",
    "                           hover_name = \"NewRegion\",\n",
    "                           #range_color=(0, 1),\n",
    "                           mapbox_style=\"carto-positron\",\n",
    "                           #mapbox_style = \"carto-darkmatter\",\n",
    "                           zoom=3, center = {\"lat\": 55.44, \"lon\": 37.4},\n",
    "                           opacity=0.7,\n",
    "                           labels={'menu_order':'Конверсия меню-заказ',\n",
    "                                  \"NewRegion\": \"регион\"},\n",
    "                           #width = 1400,\n",
    "                           #height = 700\n",
    "                          )\n",
    "fig_canceled.update_layout(margin={\"r\":0,\"t\":0,\"l\":0,\"b\":0})"
   ]
  },
  {
   "cell_type": "code",
   "execution_count": null,
   "id": "c56a9a27-6519-4ecd-9b61-f7f026506aca",
   "metadata": {},
   "outputs": [],
   "source": [
    "PORT = 8005\n",
    "app = Dash(__name__)\n",
    "app.layout = html.Div(\n",
    "    children=[\n",
    "    html.H2(\n",
    "        children='Конверсия Меню-Заказ'\n",
    "    ),\n",
    "    html.A(\"Моя страница в ноушне\",\n",
    "           href='https://www.notion.so/dodobrands/05321e94ff5d4d12a29e5651822f3bae',\n",
    "           target=\"_blank\"),\n",
    "    dcc.Graph(\n",
    "        id='example-graph',\n",
    "        figure=fig\n",
    "    ),   \n",
    "])\n",
    "\n",
    "if __name__ == '__main__':\n",
    "    app.run(port=PORT, debug=False)"
   ]
  },
  {
   "cell_type": "code",
   "execution_count": null,
   "id": "3debe205-a39e-4139-81df-5efcab92498b",
   "metadata": {},
   "outputs": [],
   "source": []
  }
 ],
 "metadata": {
  "kernelspec": {
   "display_name": "Python 3 (ipykernel)",
   "language": "python",
   "name": "python3"
  },
  "language_info": {
   "codemirror_mode": {
    "name": "ipython",
    "version": 3
   },
   "file_extension": ".py",
   "mimetype": "text/x-python",
   "name": "python",
   "nbconvert_exporter": "python",
   "pygments_lexer": "ipython3",
   "version": "3.11.3"
  }
 },
 "nbformat": 4,
 "nbformat_minor": 5
}
